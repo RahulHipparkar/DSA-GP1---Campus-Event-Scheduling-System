{
 "cells": [
  {
   "cell_type": "markdown",
   "metadata": {
    "jp-MarkdownHeadingCollapsed": true
   },
   "source": [
    "# About Project\n",
    "**Group No: 6**\n",
    "\n",
    "**Group Members: Rahul Hipparkar, Lily Holmes, Andrea Caceres, Isra Marcu**\n",
    "\n",
    "**Project Name: Campus Event Scheduling System**\n",
    "\n",
    "**Github Repo link**:  https://github.com/RahulHipparkar/DSA-GP1---Campus-Event-Scheduling-System\n",
    "\n",
    "**Objective**: We’ve been hired to design a lightweight scheduling system for managing campus events (talks, hackathons, concerts, exams, etc.). The system must allow adding, searching, sorting, and conflict-checking events efficiently as the event list grows from a handful to thousands.\n",
    "\n",
    "Our group will design and implement custom data structures and algorithms to power the system, compare their performance, and present results.\n",
    "\n",
    "\n"
   ]
  },
  {
   "cell_type": "markdown",
   "metadata": {},
   "source": [
    "# Importing files as modules"
   ]
  },
  {
   "cell_type": "code",
   "execution_count": 15,
   "metadata": {},
   "outputs": [
    {
     "name": "stderr",
     "output_type": "stream",
     "text": [
      "Matplotlib is building the font cache; this may take a moment.\n"
     ]
    }
   ],
   "source": [
    "import numpy as np\n",
    "import pandas as pd\n",
    "import matplotlib.pyplot as plt\n",
    "import os, sys\n",
    "from src.models.event import Event\n",
    "from src.models.ArrayList import DynamicArray\n",
    "from src.models.LinkedList import LinkedList\n",
    "from src.searching.Linear_Search import linear_search\n",
    "from src.searching.Binary_Search import binary_search\n",
    "from src.sorting.Get_Key import key\n",
    "from src.sorting.Insertion_Sort import insertion_sort\n",
    "from src.sorting.Slicing import slice_array\n",
    "from src.sorting.Merge_Sort import merge_sort\n",
    "from src.sorting.Quick_Sort import quick_sort\n",
    "from src.sorting.Insertion_Sort_Linked_List import insertion_sort_linked_list\n",
    "from src.sorting.Merge_Sort_Linked_List import merge_sort_list\n",
    "from src.sorting.Quick_Sort_Linked_List import quickSort\n",
    "from src.searching.Conflict_Detection import display_conflicts"
   ]
  },
  {
   "cell_type": "markdown",
   "metadata": {},
   "source": [
    "# Random generator for dynamic array"
   ]
  },
  {
   "cell_type": "code",
   "execution_count": 8,
   "metadata": {},
   "outputs": [],
   "source": [
    "import datetime\n",
    "import random\n",
    "import time\n",
    "def random_time():\n",
    "    hour = random.randint(0, 23)\n",
    "    minute = random.randint(0, 59)\n",
    "    return f\"{hour:02d}:{minute:02d}\"\n",
    "def random_date():\n",
    "# initialize start and end dates\n",
    "  start_date = datetime.date(2025, 8, 22)\n",
    "  end_date   = datetime.date(2026, 5, 15)\n",
    "\n",
    "  # create a single random day\n",
    "  num_days = (end_date - start_date).days\n",
    "  rand_days = random.randint(1, num_days)\n",
    "  random_date = start_date + datetime.timedelta(days = rand_days)\n",
    "\n",
    "  return random_date.strftime(\"%Y-%m-%d\")\n",
    "\n",
    "def create_random_DynamicArray(n):\n",
    "  titles = [\"talk\", \"hackathon\", \"concert\", \"exam\", \"orientation\"]\n",
    "  locations = [\"Baca\", \"Folsom\", \"Norlin Room A\", \"Norlin Room B\"]\n",
    "\n",
    "  event_schedule = DynamicArray() # dynamic array instance\n",
    "\n",
    "  for i in range(n):\n",
    "    id = random.randint(1,10000)\n",
    "    title = random.choice(titles)\n",
    "    date = random_date()\n",
    "    time = random_time() # 24 hour time, 8am to 8pm\n",
    "    location = random.choice(locations)\n",
    "\n",
    "    e = Event(id, title, date, time, location)\n",
    "    event_schedule.append(e)\n",
    "\n",
    "  return event_schedule"
   ]
  },
  {
   "cell_type": "code",
   "execution_count": 9,
   "metadata": {},
   "outputs": [
    {
     "data": {
      "text/plain": [
       "[{'Id': 1536, 'Title': 'concert', 'Date': '2026-01-12', 'Time': '05:52', 'Location': 'Norlin Room A'},\n",
       " {'Id': 6773, 'Title': 'talk', 'Date': '2025-11-24', 'Time': '04:42', 'Location': 'Norlin Room B'},\n",
       " {'Id': 4777, 'Title': 'talk', 'Date': '2025-11-13', 'Time': '02:21', 'Location': 'Norlin Room A'},\n",
       " {'Id': 3998, 'Title': 'exam', 'Date': '2026-04-27', 'Time': '02:35', 'Location': 'Norlin Room B'},\n",
       " {'Id': 8866, 'Title': 'hackathon', 'Date': '2026-01-14', 'Time': '17:15', 'Location': 'Norlin Room A'},\n",
       " {'Id': 9560, 'Title': 'concert', 'Date': '2026-01-17', 'Time': '08:50', 'Location': 'Norlin Room B'},\n",
       " {'Id': 9746, 'Title': 'talk', 'Date': '2025-10-28', 'Time': '07:37', 'Location': 'Norlin Room B'},\n",
       " {'Id': 5302, 'Title': 'talk', 'Date': '2025-12-26', 'Time': '09:10', 'Location': 'Norlin Room B'},\n",
       " {'Id': 3872, 'Title': 'exam', 'Date': '2025-10-13', 'Time': '01:12', 'Location': 'Norlin Room A'},\n",
       " {'Id': 3403, 'Title': 'exam', 'Date': '2025-11-18', 'Time': '11:23', 'Location': 'Baca'},\n",
       " {'Id': 6168, 'Title': 'exam', 'Date': '2026-01-18', 'Time': '01:23', 'Location': 'Baca'},\n",
       " {'Id': 3916, 'Title': 'concert', 'Date': '2025-08-27', 'Time': '15:53', 'Location': 'Baca'},\n",
       " {'Id': 3568, 'Title': 'talk', 'Date': '2026-03-22', 'Time': '20:54', 'Location': 'Norlin Room A'},\n",
       " {'Id': 5994, 'Title': 'hackathon', 'Date': '2026-04-05', 'Time': '12:28', 'Location': 'Folsom'},\n",
       " {'Id': 4184, 'Title': 'orientation', 'Date': '2026-04-27', 'Time': '19:43', 'Location': 'Norlin Room A'},\n",
       " {'Id': 14, 'Title': 'exam', 'Date': '2026-03-27', 'Time': '07:54', 'Location': 'Baca'},\n",
       " {'Id': 3820, 'Title': 'exam', 'Date': '2025-12-16', 'Time': '09:03', 'Location': 'Norlin Room B'},\n",
       " {'Id': 6020, 'Title': 'concert', 'Date': '2026-05-01', 'Time': '00:09', 'Location': 'Folsom'},\n",
       " {'Id': 1374, 'Title': 'exam', 'Date': '2026-02-28', 'Time': '15:38', 'Location': 'Norlin Room B'},\n",
       " {'Id': 8741, 'Title': 'hackathon', 'Date': '2026-03-11', 'Time': '15:13', 'Location': 'Norlin Room A'},\n",
       " {'Id': 3353, 'Title': 'exam', 'Date': '2025-12-11', 'Time': '07:46', 'Location': 'Norlin Room A'},\n",
       " {'Id': 3739, 'Title': 'exam', 'Date': '2026-02-10', 'Time': '00:15', 'Location': 'Baca'},\n",
       " {'Id': 248, 'Title': 'talk', 'Date': '2025-10-28', 'Time': '04:22', 'Location': 'Folsom'},\n",
       " {'Id': 3233, 'Title': 'orientation', 'Date': '2026-05-02', 'Time': '03:17', 'Location': 'Baca'},\n",
       " {'Id': 2983, 'Title': 'hackathon', 'Date': '2025-09-15', 'Time': '18:49', 'Location': 'Baca'},\n",
       " {'Id': 3665, 'Title': 'concert', 'Date': '2025-10-12', 'Time': '07:08', 'Location': 'Folsom'},\n",
       " {'Id': 5517, 'Title': 'hackathon', 'Date': '2025-12-29', 'Time': '14:37', 'Location': 'Baca'},\n",
       " {'Id': 6553, 'Title': 'exam', 'Date': '2025-11-20', 'Time': '12:42', 'Location': 'Folsom'},\n",
       " {'Id': 833, 'Title': 'concert', 'Date': '2025-11-27', 'Time': '20:14', 'Location': 'Folsom'},\n",
       " {'Id': 5713, 'Title': 'exam', 'Date': '2026-01-12', 'Time': '06:39', 'Location': 'Norlin Room A'},\n",
       " {'Id': 1724, 'Title': 'orientation', 'Date': '2025-09-19', 'Time': '15:55', 'Location': 'Norlin Room A'},\n",
       " {'Id': 8410, 'Title': 'orientation', 'Date': '2026-04-08', 'Time': '21:11', 'Location': 'Baca'},\n",
       " {'Id': 7786, 'Title': 'concert', 'Date': '2026-05-07', 'Time': '04:36', 'Location': 'Norlin Room B'},\n",
       " {'Id': 2345, 'Title': 'hackathon', 'Date': '2025-11-21', 'Time': '16:30', 'Location': 'Baca'},\n",
       " {'Id': 7890, 'Title': 'talk', 'Date': '2025-10-28', 'Time': '10:26', 'Location': 'Folsom'},\n",
       " {'Id': 9221, 'Title': 'concert', 'Date': '2026-05-11', 'Time': '02:29', 'Location': 'Folsom'},\n",
       " {'Id': 8241, 'Title': 'orientation', 'Date': '2025-12-03', 'Time': '07:18', 'Location': 'Norlin Room B'},\n",
       " {'Id': 3271, 'Title': 'concert', 'Date': '2026-04-18', 'Time': '12:04', 'Location': 'Folsom'},\n",
       " {'Id': 4919, 'Title': 'concert', 'Date': '2025-11-06', 'Time': '09:55', 'Location': 'Baca'},\n",
       " {'Id': 6597, 'Title': 'concert', 'Date': '2025-12-29', 'Time': '01:34', 'Location': 'Norlin Room B'},\n",
       " {'Id': 883, 'Title': 'hackathon', 'Date': '2026-01-19', 'Time': '10:58', 'Location': 'Baca'},\n",
       " {'Id': 5525, 'Title': 'orientation', 'Date': '2025-12-17', 'Time': '01:39', 'Location': 'Baca'},\n",
       " {'Id': 7862, 'Title': 'orientation', 'Date': '2025-09-24', 'Time': '12:09', 'Location': 'Baca'},\n",
       " {'Id': 2798, 'Title': 'exam', 'Date': '2025-09-20', 'Time': '06:33', 'Location': 'Norlin Room B'},\n",
       " {'Id': 2847, 'Title': 'talk', 'Date': '2025-10-03', 'Time': '12:21', 'Location': 'Baca'},\n",
       " {'Id': 8589, 'Title': 'concert', 'Date': '2026-03-31', 'Time': '06:14', 'Location': 'Folsom'},\n",
       " {'Id': 9672, 'Title': 'hackathon', 'Date': '2025-11-26', 'Time': '18:57', 'Location': 'Folsom'},\n",
       " {'Id': 6254, 'Title': 'talk', 'Date': '2025-09-22', 'Time': '16:40', 'Location': 'Norlin Room B'},\n",
       " {'Id': 2248, 'Title': 'concert', 'Date': '2025-12-11', 'Time': '03:11', 'Location': 'Norlin Room A'},\n",
       " {'Id': 8401, 'Title': 'exam', 'Date': '2025-10-19', 'Time': '12:38', 'Location': 'Norlin Room B'}]"
      ]
     },
     "execution_count": 9,
     "metadata": {},
     "output_type": "execute_result"
    }
   ],
   "source": [
    "arr = create_random_DynamicArray(50)\n",
    "arr.list_all()"
   ]
  },
  {
   "cell_type": "markdown",
   "metadata": {},
   "source": [
    "# Random Generator for Linked List"
   ]
  },
  {
   "cell_type": "code",
   "execution_count": 10,
   "metadata": {},
   "outputs": [],
   "source": [
    "def create_random_LinkedList(n):\n",
    "  titles = [\"talk\", \"hackathon\", \"concert\", \"exam\", \"orientation\"]\n",
    "  locations = [\"Baca\", \"Folsom\", \"Norlin Room A\", \"Norlin Room B\"]\n",
    "\n",
    "  event_schedule = LinkedList() # dynamic array instance\n",
    "\n",
    "  for i in range(n):\n",
    "    id = random.randint(1,10000)\n",
    "    title = random.choice(titles)\n",
    "    date = random_date()\n",
    "    time = random_time() # 24 hour time, 8am to 8pm\n",
    "    location = random.choice(locations)\n",
    "\n",
    "    e = Event(id, title, date, time, location)\n",
    "    event_schedule.append(e)\n",
    "\n",
    "  return event_schedule"
   ]
  },
  {
   "cell_type": "markdown",
   "metadata": {},
   "source": [
    "# Experimentation"
   ]
  },
  {
   "cell_type": "markdown",
   "metadata": {},
   "source": [
    "## Comparing runtime of sorting algorithms for dynamic arrays"
   ]
  },
  {
   "cell_type": "code",
   "execution_count": 16,
   "metadata": {},
   "outputs": [
    {
     "data": {
      "image/png": "[encoded data removed]",
      "text/plain": [
       "<Figure size 640x480 with 1 Axes>"
      ]
     },
     "metadata": {},
     "output_type": "display_data"
    }
   ],
   "source": [
    "sys.setrecursionlimit(100000)\n",
    "def measure_time(function):\n",
    "  start = time.time()\n",
    "  function()\n",
    "  end= time.time()\n",
    "  return round(end - start, 5)\n",
    "\n",
    "merge_sort_runtime = []\n",
    "insertion_sort_runtime = []\n",
    "quick_sort_runtime = []\n",
    "\n",
    "size = [50,500,5000,5000]\n",
    "for i in size:\n",
    "    arr = create_random_DynamicArray(i)\n",
    "    merge_sort_runtime.append(measure_time(lambda: merge_sort(arr)))\n",
    "    insertion_sort_runtime.append(measure_time(lambda: insertion_sort(arr)))\n",
    "    quick_sort_runtime.append(measure_time(lambda: quick_sort(arr)))\n",
    "\n",
    "plt.plot(size, insertion_sort_runtime, label='Insertion Sort')\n",
    "plt.plot(size, merge_sort_runtime,label='Merge Sort')\n",
    "plt.plot(size, quick_sort_runtime, label='Quick Sort')\n",
    "plt.xlabel('Array Size')\n",
    "plt.ylabel('Time (seconds)')\n",
    "plt.title('Sorting Algorithm Runtimes for Arrays')\n",
    "plt.legend()\n",
    "plt.grid(True)"
   ]
  },
  {
   "cell_type": "code",
   "execution_count": null,
   "metadata": {},
   "outputs": [],
   "source": []
  }
 ],
 "metadata": {
  "colab": {
   "provenance": []
  },
  "kernelspec": {
   "display_name": "Python (My Jupyter Env)",
   "language": "python",
   "name": "my_jupyter_env"
  },
  "language_info": {
   "codemirror_mode": {
    "name": "ipython",
    "version": 3
   },
   "file_extension": ".py",
   "mimetype": "text/x-python",
   "name": "python",
   "nbconvert_exporter": "python",
   "pygments_lexer": "ipython3",
   "version": "3.13.5"
  }
 },
 "nbformat": 4,
 "nbformat_minor": 4
}
