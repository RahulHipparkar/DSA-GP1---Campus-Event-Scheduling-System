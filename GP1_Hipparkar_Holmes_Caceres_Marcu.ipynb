{
 "cells": [
  {
   "cell_type": "code",
   "execution_count": 1,
   "metadata": {
    "id": "LPJveYkEr47N"
   },
   "outputs": [
    {
     "name": "stdout",
     "output_type": "stream",
     "text": [
      "Hello world\n"
     ]
    }
   ],
   "source": [
    "print(\"Hello world\")"
   ]
  },
  {
   "cell_type": "code",
   "execution_count": 2,
   "metadata": {},
   "outputs": [
    {
     "ename": "NameError",
     "evalue": "name '__file__' is not defined",
     "output_type": "error",
     "traceback": [
      "\u001b[31m---------------------------------------------------------------------------\u001b[39m",
      "\u001b[31mNameError\u001b[39m                                 Traceback (most recent call last)",
      "\u001b[36mCell\u001b[39m\u001b[36m \u001b[39m\u001b[32mIn[2]\u001b[39m\u001b[32m, line 3\u001b[39m\n\u001b[32m      1\u001b[39m \u001b[38;5;28;01mimport\u001b[39;00m\u001b[38;5;250m \u001b[39m\u001b[34;01mos\u001b[39;00m,\u001b[38;5;250m \u001b[39m\u001b[34;01msys\u001b[39;00m\n\u001b[32m      2\u001b[39m \u001b[38;5;66;03m# Go up one level (from demo/ → project_root/)\u001b[39;00m\n\u001b[32m----> \u001b[39m\u001b[32m3\u001b[39m ROOT_DIR = os.path.abspath(os.path.join(os.path.dirname(\u001b[34;43m__file__\u001b[39;49m), \u001b[33m\"\u001b[39m\u001b[33m..\u001b[39m\u001b[33m\"\u001b[39m))\n\u001b[32m      4\u001b[39m \u001b[38;5;28;01mif\u001b[39;00m ROOT_DIR \u001b[38;5;129;01mnot\u001b[39;00m \u001b[38;5;129;01min\u001b[39;00m sys.path:\n\u001b[32m      5\u001b[39m     sys.path.insert(\u001b[32m0\u001b[39m, ROOT_DIR)\n",
      "\u001b[31mNameError\u001b[39m: name '__file__' is not defined"
     ]
    }
   ],
   "source": [
    "import os, sys\n",
    "# Go up one level (from demo/ → project_root/)\n",
    "ROOT_DIR = os.path.abspath(os.path.join(os.path.dirname(__file__), \"..\"))\n",
    "if ROOT_DIR not in sys.path:\n",
    "    sys.path.insert(0, ROOT_DIR)\n",
    "\n",
    "from src.models.event import Event\n",
    "from src.models.ArrayList import DynamicArray\n",
    "from src.models.LinkedList import LinkedList\n",
    "from src.searching.Linear_Search import linear_search\n",
    "from src.searching.Binary_Search import binary_search\n",
    "from src.sorting.Get_Key import key\n",
    "# from src.sorting.Insertion_Sort import insertion_sort\n",
    "# from src.sorting.Slicing import slice_array\n",
    "# from src.sorting.Merge_Sort import merge_sort\n",
    "# from src.sorting.Quick_Sort import quick_sort\n",
    "from src.sorting.Insertion_Sort_Linked_List import insertion_sort_linked_list\n",
    "from src.sorting.Merge_Sort_Linked_List import merge_sort_list\n",
    "from src.sorting.Quick_Sort_Linked_List import quickSort\n",
    "from src.searching.Conflict_Detection import display_conflicts"
   ]
  },
  {
   "cell_type": "code",
   "execution_count": null,
   "metadata": {},
   "outputs": [],
   "source": []
  }
 ],
 "metadata": {
  "colab": {
   "provenance": []
  },
  "kernelspec": {
   "display_name": "Python (My Jupyter Env)",
   "language": "python",
   "name": "my_jupyter_env"
  },
  "language_info": {
   "codemirror_mode": {
    "name": "ipython",
    "version": 3
   },
   "file_extension": ".py",
   "mimetype": "text/x-python",
   "name": "python",
   "nbconvert_exporter": "python",
   "pygments_lexer": "ipython3",
   "version": "3.13.5"
  }
 },
 "nbformat": 4,
 "nbformat_minor": 4
}
