{
 "cells": [
  {
   "cell_type": "code",
   "execution_count": 1,
   "metadata": {
    "id": "LPJveYkEr47N"
   },
   "outputs": [
    {
     "name": "stdout",
     "output_type": "stream",
     "text": [
      "Hello world\n"
     ]
    }
   ],
   "source": [
    "print(\"Hello world\")"
   ]
  },
  {
   "cell_type": "code",
   "execution_count": 4,
   "metadata": {},
   "outputs": [],
   "source": [
    "import os, sys\n",
    "from src.models.event import Event\n",
    "from src.models.ArrayList import DynamicArray\n",
    "from src.models.LinkedList import LinkedList\n",
    "from src.searching.Linear_Search import linear_search\n",
    "from src.searching.Binary_Search import binary_search\n",
    "from src.sorting.Get_Key import key\n",
    "from src.sorting.Insertion_Sort import insertion_sort\n",
    "from src.sorting.Slicing import slice_array\n",
    "from src.sorting.Merge_Sort import merge_sort\n",
    "from src.sorting.Quick_Sort import quick_sort\n",
    "from src.sorting.Insertion_Sort_Linked_List import insertion_sort_linked_list\n",
    "from src.sorting.Merge_Sort_Linked_List import merge_sort_list\n",
    "from src.sorting.Quick_Sort_Linked_List import quickSort\n",
    "from src.searching.Conflict_Detection import display_conflicts"
   ]
  },
  {
   "cell_type": "code",
   "execution_count": 6,
   "metadata": {},
   "outputs": [
    {
     "name": "stdout",
     "output_type": "stream",
     "text": [
      "[1, 2, 3, 4, 5]\n"
     ]
    }
   ],
   "source": [
    "print([1,2,3,4,5])"
   ]
  },
  {
   "cell_type": "code",
   "execution_count": null,
   "metadata": {},
   "outputs": [],
   "source": []
  }
 ],
 "metadata": {
  "colab": {
   "provenance": []
  },
  "kernelspec": {
   "display_name": "Python (My Jupyter Env)",
   "language": "python",
   "name": "my_jupyter_env"
  },
  "language_info": {
   "codemirror_mode": {
    "name": "ipython",
    "version": 3
   },
   "file_extension": ".py",
   "mimetype": "text/x-python",
   "name": "python",
   "nbconvert_exporter": "python",
   "pygments_lexer": "ipython3",
   "version": "3.13.5"
  }
 },
 "nbformat": 4,
 "nbformat_minor": 4
}
